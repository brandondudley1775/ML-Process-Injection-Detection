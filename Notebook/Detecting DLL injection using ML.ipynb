{
  "nbformat": 4,
  "nbformat_minor": 0,
  "metadata": {
    "colab": {
      "name": "ML_Project.ipynb",
      "provenance": [],
      "collapsed_sections": []
    },
    "kernelspec": {
      "display_name": "Python 3",
      "name": "python3"
    }
  },
  "cells": [
    {
      "cell_type": "markdown",
      "metadata": {
        "id": "XbTFI-myIV8i"
      },
      "source": [
        "# Detect Reflected DLL injection attacks using Machine Learning\n",
        "\n"
      ]
    },
    {
      "cell_type": "code",
      "metadata": {
        "id": "bT4bTFp-O6IR"
      },
      "source": [
        "import pandas as pd\n",
        "import numpy as np\n",
        "import matplotlib.pyplot as plt\n",
        "from sklearn.model_selection import train_test_split\n",
        "from sklearn.neighbors import KNeighborsClassifier\n",
        "from sklearn.ensemble import RandomForestClassifier\n",
        "from sklearn.svm import LinearSVC\n",
        "from sklearn.svm import NuSVC\n",
        "from sklearn.svm import SVC\n",
        "from sklearn.linear_model import SGDClassifier\n",
        "from sklearn.neighbors import NearestCentroid\n",
        "from sklearn.metrics import confusion_matrix\n",
        "from sklearn.model_selection import cross_val_score\n",
        "from sklearn.neighbors import LocalOutlierFactor\n",
        "from sklearn.metrics import precision_recall_fscore_support\n",
        "\n",
        "import time\n",
        "import warnings\n",
        "warnings.filterwarnings('ignore')"
      ],
      "execution_count": null,
      "outputs": []
    },
    {
      "cell_type": "code",
      "metadata": {
        "colab": {
          "base_uri": "https://localhost:8080/"
        },
        "id": "QO1NJiODci5W",
        "outputId": "c559c5f4-d256-46cc-a729-0a1f96cf7281"
      },
      "source": [
        "# ------------ Load the dataset -------------------- #\r\n",
        "data = pd.read_csv(\"Final_dataset.csv\")\r\n",
        "print(data.shape)\r\n",
        "print(data.OS.unique())\r\n",
        "# ------------ End Loading dataset ----------------- #"
      ],
      "execution_count": null,
      "outputs": [
        {
          "output_type": "stream",
          "text": [
            "(85019, 10)\n",
            "['win10' 'win7' 'win8.1']\n"
          ],
          "name": "stdout"
        }
      ]
    },
    {
      "cell_type": "markdown",
      "metadata": {
        "id": "lK6hAos8OpEo"
      },
      "source": [
        "# Features:\n",
        "\n",
        "1. **OS - Operating System** - \n",
        "This attribute describes the operating system where the data was collected.  In this dataset, it is either Windows 10, Windows 8.1, or Windows 7.\n",
        "\n",
        "2. **ModuleCount** -\n",
        "This is the number of distinct modules, or dlls, that are loaded into process memory.\n",
        "\n",
        "3. **HandleCount** -\n",
        "This is the number of operating system handles the process has opened.\n",
        "\n",
        "4. **PagedSystemMemorySize64** -\n",
        "This is the amount of paged system memory allocated for a process.\n",
        "\n",
        "5. **PeakVirtualMemorySize64** -\n",
        "This is the maximum amount of virtual memory that has been used by a process.\n",
        "\n",
        "6. **ProcessName** - \n",
        "This is the name of a process.  The ModuleList attribute, when included, lists the executable as the first module loaded.\n",
        "\n",
        "7. **WorkingSet** -\n",
        "This is the current memory usage of the process.\n",
        "\n",
        "8. **ThreadCount** -\n",
        "This is the number of running threads in a selected process.\n",
        "\n",
        "9. **Injected** - \n",
        "Boolean, true if the process has been injected, false if not.\n",
        "\n"
      ]
    },
    {
      "cell_type": "markdown",
      "metadata": {
        "id": "2WL_nyshXLxI"
      },
      "source": [
        "### Data Preprocessing"
      ]
    },
    {
      "cell_type": "code",
      "metadata": {
        "colab": {
          "base_uri": "https://localhost:8080/"
        },
        "id": "3b4vgPaWap_j",
        "outputId": "c789ba62-1ae0-4f3f-ed9f-106ac75567c3"
      },
      "source": [
        "# --------- Check for Null values ----------- #\r\n",
        "print(data.isnull().sum())\r\n",
        "\r\n",
        "# If there are more null values, consider replacing than removing records\r\n",
        "data = data.dropna()\r\n",
        "\r\n",
        "# Display the final number of rows and columns\r\n",
        "print(data.shape) "
      ],
      "execution_count": null,
      "outputs": [
        {
          "output_type": "stream",
          "text": [
            "Unnamed: 0                 0\n",
            "OS                         0\n",
            "ModuleCount                0\n",
            "HandleCount                0\n",
            "PagedSystemMemorySize64    0\n",
            "PeakVirtualMemorySize64    0\n",
            "ProcessName                0\n",
            "WorkingSet                 0\n",
            "ThreadCount                0\n",
            "Injected                   0\n",
            "dtype: int64\n",
            "(85019, 10)\n"
          ],
          "name": "stdout"
        }
      ]
    },
    {
      "cell_type": "code",
      "metadata": {
        "colab": {
          "base_uri": "https://localhost:8080/"
        },
        "id": "gMp6PSWFISmE",
        "outputId": "33a8aee8-a784-4677-bb1a-c020cd85de46"
      },
      "source": [
        "# Displaying Injected and Non-injected Processes\n",
        "injected = data[data['Injected']==1]\n",
        "\n",
        "print(\"---------------------------\\n\",\"Total Unique Processes:\",\n",
        "      \"\\n---------------------------\\n\")\n",
        "print(data['ProcessName'].value_counts())\n",
        "\n",
        "# This provides an insight on:\n",
        "# - Which process was injected the most\n",
        "# - Processes that have few number of occurance can be regarded as unseen data\n",
        "print(\"\\n---------------------------\\n\",\"Most injected Processes:\",\n",
        "      \"\\n---------------------------\\n\")\n",
        "print(injected.ProcessName.value_counts())"
      ],
      "execution_count": null,
      "outputs": [
        {
          "output_type": "stream",
          "text": [
            "---------------------------\n",
            " Total Unique Processes: \n",
            "---------------------------\n",
            "\n",
            "svchost                  56861\n",
            "dwm                       1700\n",
            "lsass                     1514\n",
            "winlogon                  1501\n",
            "spoolsv                   1477\n",
            "vmicsvc                   1451\n",
            "conhost                   1099\n",
            "wlms                       995\n",
            "SMSvcHost                  964\n",
            "WUDFHost                   946\n",
            "LogonUI                    919\n",
            "fontdrvhost                803\n",
            "explorer                   797\n",
            "ruby                       695\n",
            "VBoxService                689\n",
            "SearchProtocolHost         603\n",
            "wininit                    599\n",
            "cygrunsrv                  596\n",
            "csrss                      591\n",
            "sshd                       587\n",
            "SearchIndexer              580\n",
            "IntelCpHeciSvc             522\n",
            "ibtsiva                    520\n",
            "RzSDKServer                519\n",
            "GameScannerService         515\n",
            "RzSDKService               514\n",
            "IntelCpHDCPSvc             513\n",
            "igfxCUIService             508\n",
            "wlanext                    508\n",
            "TeamViewer_Service         506\n",
            "taskhost                   506\n",
            "armsvc                     505\n",
            "VBoxTray                   502\n",
            "RtkAudUService64           496\n",
            "vmms                       482\n",
            "lsm                        312\n",
            "GoogleCrashHandler         304\n",
            "taskhostex                 294\n",
            "services                   293\n",
            "sppsvc                     291\n",
            "dllhost                    223\n",
            "SearchFilterHost           110\n",
            "taskeng                     56\n",
            "GoogleUpdate                16\n",
            "WmiPrvSE                    11\n",
            "wsmprovhost                  7\n",
            "RuntimeBroker                6\n",
            "TiWorker                     2\n",
            "tv_x64                       1\n",
            "rdpclip                      1\n",
            "TeamViewer                   1\n",
            "SettingSyncHost              1\n",
            "taskhostw                    1\n",
            "sihost                       1\n",
            "cmd                          1\n",
            "ctfmon                       1\n",
            "tv_w32                       1\n",
            "PresentationFontCache        1\n",
            "TrustedInstaller             1\n",
            "Name: ProcessName, dtype: int64\n",
            "\n",
            "---------------------------\n",
            " Most injected Processes: \n",
            "---------------------------\n",
            "\n",
            "svchost               25145\n",
            "dwm                     731\n",
            "winlogon                700\n",
            "lsass                   654\n",
            "spoolsv                 646\n",
            "vmicsvc                 633\n",
            "conhost                 505\n",
            "wlms                    462\n",
            "SMSvcHost               428\n",
            "WUDFHost                413\n",
            "LogonUI                 402\n",
            "fontdrvhost             350\n",
            "explorer                332\n",
            "ruby                    316\n",
            "VBoxService             309\n",
            "SearchProtocolHost      289\n",
            "csrss                   279\n",
            "sshd                    275\n",
            "wininit                 274\n",
            "cygrunsrv               261\n",
            "IntelCpHeciSvc          250\n",
            "RzSDKServer             244\n",
            "wlanext                 240\n",
            "SearchIndexer           239\n",
            "TeamViewer_Service      234\n",
            "VBoxTray                234\n",
            "taskhost                232\n",
            "RzSDKService            231\n",
            "IntelCpHDCPSvc          231\n",
            "ibtsiva                 227\n",
            "igfxCUIService          221\n",
            "RtkAudUService64        221\n",
            "GameScannerService      216\n",
            "armsvc                  210\n",
            "vmms                    209\n",
            "lsm                     158\n",
            "GoogleCrashHandler      138\n",
            "services                133\n",
            "sppsvc                  130\n",
            "taskhostex              128\n",
            "dllhost                 107\n",
            "SearchFilterHost         41\n",
            "taskeng                  22\n",
            "WmiPrvSE                  4\n",
            "RuntimeBroker             4\n",
            "GoogleUpdate              3\n",
            "tv_w32                    1\n",
            "taskhostw                 1\n",
            "ctfmon                    1\n",
            "TiWorker                  1\n",
            "tv_x64                    1\n",
            "Name: ProcessName, dtype: int64\n"
          ],
          "name": "stdout"
        }
      ]
    },
    {
      "cell_type": "code",
      "metadata": {
        "id": "tprR5kXfukdu"
      },
      "source": [
        "# --------- Converting categorical features to numeric ----------- #\n",
        "data['ProcessName'] = data['ProcessName'].astype('category').cat.codes\n",
        "data['OS'] = data['OS'].astype('category').cat.codes\n",
        "X = data[['OS','ModuleCount','HandleCount','PagedSystemMemorySize64',\n",
        "          'PeakVirtualMemorySize64','ProcessName','WorkingSet','ThreadCount']]\n",
        "Y = data['Injected']"
      ],
      "execution_count": null,
      "outputs": []
    },
    {
      "cell_type": "markdown",
      "metadata": {
        "id": "xwLVPDGH22dY"
      },
      "source": [
        "# Detecting Outliers using LOF"
      ]
    },
    {
      "cell_type": "code",
      "metadata": {
        "colab": {
          "base_uri": "https://localhost:8080/"
        },
        "id": "kY3WiIsx26Dq",
        "outputId": "1d049c8f-34e6-48f9-8cef-1a328e89d4a5"
      },
      "source": [
        "lof = LocalOutlierFactor(n_neighbors=3)\r\n",
        "lof_predict = lof.fit_predict(X)\r\n",
        "outlier = 0\r\n",
        "for t in lof_predict:\r\n",
        "  if t ==-1:\r\n",
        "    outlier+=1\r\n",
        "\r\n",
        "print(\"Number of outliers predicted: \",outlier)\r\n",
        "\r\n",
        "decision_lof_neg = lof.negative_outlier_factor_\r\n",
        "\r\n",
        "count = 0\r\n",
        "positive = 0\r\n",
        "for x in decision_lof_neg:\r\n",
        "  if x <=-40:\r\n",
        "    count+=1\r\n",
        "\r\n",
        "print(\"Number of data-points that have smaller than or equal to -40: \",count)"
      ],
      "execution_count": null,
      "outputs": [
        {
          "output_type": "stream",
          "text": [
            "Number of outliers predicted:  16658\n",
            "Number of data-points that have smaller than or equal to -40:  7105\n"
          ],
          "name": "stdout"
        }
      ]
    },
    {
      "cell_type": "markdown",
      "metadata": {
        "id": "sG3c13iO1ssh"
      },
      "source": [
        "## Supervised Learning algorithms for prediction"
      ]
    },
    {
      "cell_type": "code",
      "metadata": {
        "id": "yTKgpf0Y0Jcu",
        "colab": {
          "base_uri": "https://localhost:8080/"
        },
        "outputId": "6b4eddb6-e9bd-4438-c64c-a74d33accda6"
      },
      "source": [
        "X_train, X_test, y_train, y_test = train_test_split(X, Y, test_size=0.2,\r\n",
        "                                                    random_state=37)\r\n",
        "\r\n",
        "print(\"Train set: \", X_train.shape,\"  Test Set: \",X_test.shape)\r\n",
        "print(\"Train label: \", y_train.shape,\"  Test label: \",y_test.shape)"
      ],
      "execution_count": null,
      "outputs": [
        {
          "output_type": "stream",
          "text": [
            "Train set:  (68015, 8)   Test Set:  (17004, 8)\n",
            "Train label:  (68015,)   Test label:  (17004,)\n"
          ],
          "name": "stdout"
        }
      ]
    },
    {
      "cell_type": "markdown",
      "metadata": {
        "id": "DYVsHJUO6bRT"
      },
      "source": [
        "## Applying KNN to the dataset\r\n",
        "\r\n",
        "We find the number of optimum neighbors by iterating through the algorithm for different values of n."
      ]
    },
    {
      "cell_type": "code",
      "metadata": {
        "colab": {
          "base_uri": "https://localhost:8080/"
        },
        "id": "B1a9OMcG2fp9",
        "outputId": "7d20f458-4103-43e0-b55e-e2823d375353"
      },
      "source": [
        "highest_recall =0\n",
        "h_n=0\n",
        "\n",
        "train_time_knn = 0\n",
        "for n in range(3,10):\n",
        "  knn_model = KNeighborsClassifier(n_neighbors=n)\n",
        "  start_time = time.time()\n",
        "  knn_model.fit(X_train, y_train)\n",
        "  train_time_knn += time.time()-start_time\n",
        "  y_predict = knn_model.predict(X_test)\n",
        "  true_neg, false_pos, false_neg, true_pos = confusion_matrix(y_test,y_predict).ravel()\n",
        "  Accuracy = (true_pos+true_neg)/(true_pos+true_neg+false_pos+false_neg)\n",
        "  Precision = true_pos/(true_pos+false_pos)\n",
        "  Recall = true_pos/(true_pos+false_neg)\n",
        "  if Recall>highest_recall:\n",
        "    highest_recall=Recall\n",
        "    h_n = n\n",
        "  print(\"For n: \",n,\"\\nAccuracy: \",Accuracy,\"\\nPrecision: \",Precision,\"\\nRecall: \",Recall)\n",
        "\n",
        "avg_train_time_knn = round((train_time_knn/7),2) \n",
        "print(\"\\nHighest recall achieved: \",highest_recall,\" at n: \",h_n)\n",
        "print(\"Average training time: \",avg_train_time_knn,\"seconds\")"
      ],
      "execution_count": null,
      "outputs": [
        {
          "output_type": "stream",
          "text": [
            "For n:  3 \n",
            "Accuracy:  0.9900023523876735 \n",
            "Precision:  0.9865494739645758 \n",
            "Recall:  0.9907716998796309\n",
            "For n:  4 \n",
            "Accuracy:  0.9897671136203247 \n",
            "Precision:  0.9900684471882969 \n",
            "Recall:  0.9866256519994651\n",
            "For n:  5 \n",
            "Accuracy:  0.9892378263937897 \n",
            "Precision:  0.9848444562616325 \n",
            "Recall:  0.9907716998796309\n",
            "For n:  6 \n",
            "Accuracy:  0.988238061632557 \n",
            "Precision:  0.9871468737448119 \n",
            "Recall:  0.9860906780794436\n",
            "For n:  7 \n",
            "Accuracy:  0.987414725946836 \n",
            "Precision:  0.9829764596355899 \n",
            "Recall:  0.9884980607195399\n",
            "For n:  8 \n",
            "Accuracy:  0.9864149611856033 \n",
            "Precision:  0.9842288158246458 \n",
            "Recall:  0.9848869867593955\n",
            "For n:  9 \n",
            "Accuracy:  0.9860621030345801 \n",
            "Precision:  0.9822808419930722 \n",
            "Recall:  0.9860906780794436\n",
            "\n",
            "Highest recall achieved:  0.9907716998796309  at n:  3\n",
            "Average training time:  0.12 seconds\n"
          ],
          "name": "stdout"
        }
      ]
    },
    {
      "cell_type": "markdown",
      "metadata": {
        "id": "8T7iAb1NtxH8"
      },
      "source": [
        "# Random Forest Classifier"
      ]
    },
    {
      "cell_type": "code",
      "metadata": {
        "id": "q9wjg9ct3P-a",
        "colab": {
          "base_uri": "https://localhost:8080/"
        },
        "outputId": "6e35f5b4-549c-47ba-c7be-0b68d766bfc9"
      },
      "source": [
        "model = RandomForestClassifier(n_estimators=40)\r\n",
        "scores = cross_val_score(model, X_train, y_train, scoring = 'recall', cv = 5)\r\n",
        "scores"
      ],
      "execution_count": null,
      "outputs": [
        {
          "output_type": "execute_result",
          "data": {
            "text/plain": [
              "array([0.99917314, 0.99950397, 0.99950397, 0.9985119 , 0.99966931])"
            ]
          },
          "metadata": {
            "tags": []
          },
          "execution_count": 9
        }
      ]
    },
    {
      "cell_type": "code",
      "metadata": {
        "id": "5O7ZsJ7FSKxK",
        "colab": {
          "base_uri": "https://localhost:8080/"
        },
        "outputId": "c30d8477-ba9a-4dce-9b59-4fabd480be96"
      },
      "source": [
        "start_time = time.time()\r\n",
        "model.fit(X_train,y_train)\r\n",
        "train_time_rfc = round((time.time()-start_time),2)\r\n",
        "pred = model.predict(X_test)\r\n",
        "true_neg, false_pos, false_neg, true_pos = confusion_matrix(y_test,pred).ravel()\r\n",
        "Accuracy = (true_pos+true_neg)/(true_pos+true_neg+false_pos+false_neg)\r\n",
        "Precision = true_pos/(true_pos+false_pos)\r\n",
        "Recall = true_pos/(true_pos+false_neg)\r\n",
        "print(\"Accuracy: \",Accuracy,\"\\nPrecision: \",Precision,\"\\nRecall: \",Recall)\r\n"
      ],
      "execution_count": null,
      "outputs": [
        {
          "output_type": "stream",
          "text": [
            "Accuracy:  0.9988238061632557 \n",
            "Precision:  0.997996527314011 \n",
            "Recall:  0.9993312825999733\n"
          ],
          "name": "stdout"
        }
      ]
    },
    {
      "cell_type": "markdown",
      "metadata": {
        "id": "vLkO3j6gFMv9"
      },
      "source": [
        "## SVM - SVC\r\n",
        "\r\n",
        "Using 5 fold cross validation with SVM-SVC model to find the average accuracy achieved on the training dataset. And then applying a fitted model to test dataset to validate its actual performance for predictions."
      ]
    },
    {
      "cell_type": "code",
      "metadata": {
        "id": "20fmyi1MdWYv",
        "colab": {
          "base_uri": "https://localhost:8080/"
        },
        "outputId": "1e5443b7-5f8d-4a50-bd35-8996cdd25dbf"
      },
      "source": [
        "X_train.shape"
      ],
      "execution_count": null,
      "outputs": [
        {
          "output_type": "execute_result",
          "data": {
            "text/plain": [
              "(68015, 8)"
            ]
          },
          "metadata": {
            "tags": []
          },
          "execution_count": 11
        }
      ]
    },
    {
      "cell_type": "code",
      "metadata": {
        "id": "IbKbjMTN7NQB",
        "colab": {
          "base_uri": "https://localhost:8080/"
        },
        "outputId": "3a5eeb0f-9eac-4800-e052-042cc064c928"
      },
      "source": [
        "clf = SVC(kernel='rbf', C=1)\n",
        "print(\"Generating Scores . . \")\n",
        "scores = cross_val_score(clf, X_train, y_train, cv=5)\n",
        "print(scores)"
      ],
      "execution_count": null,
      "outputs": [
        {
          "output_type": "stream",
          "text": [
            "Generating Scores . . \n",
            "[0.55546571 0.55539219 0.55539219 0.55539219 0.55539219]\n"
          ],
          "name": "stdout"
        }
      ]
    },
    {
      "cell_type": "code",
      "metadata": {
        "id": "pT5O6lMKtLnC",
        "colab": {
          "base_uri": "https://localhost:8080/"
        },
        "outputId": "19c3bb14-8b79-430f-ee45-0173b7ea7700"
      },
      "source": [
        "# Use the best fit kernel k\r\n",
        "svm_svc = SVC(kernel='rbf', C=1)\r\n",
        "start_time = time.time()\r\n",
        "svm_svc.fit(X_train,y_train)\r\n",
        "train_time_svc = time.time()-start_time\r\n",
        "pred = svm_svc.predict(X_test)\r\n",
        "precision_recall_fscore_support(y_test, pred, average='micro')"
      ],
      "execution_count": null,
      "outputs": [
        {
          "output_type": "execute_result",
          "data": {
            "text/plain": [
              "(0.5602799341331451, 0.5602799341331451, 0.5602799341331451, None)"
            ]
          },
          "metadata": {
            "tags": []
          },
          "execution_count": 13
        }
      ]
    },
    {
      "cell_type": "code",
      "metadata": {
        "colab": {
          "base_uri": "https://localhost:8080/"
        },
        "id": "E744ygVg1xhq",
        "outputId": "9368095d-d430-425e-be2e-08d4b5647d55"
      },
      "source": [
        "train_time_svc = round(train_time_svc,2)\r\n",
        "train_time_svc"
      ],
      "execution_count": null,
      "outputs": [
        {
          "output_type": "execute_result",
          "data": {
            "text/plain": [
              "296.35"
            ]
          },
          "metadata": {
            "tags": []
          },
          "execution_count": 14
        }
      ]
    },
    {
      "cell_type": "markdown",
      "metadata": {
        "id": "tAxGoeFfgMCt"
      },
      "source": [
        "## Semi-Supervised Learning"
      ]
    },
    {
      "cell_type": "code",
      "metadata": {
        "id": "V96-p_M6ayZ9",
        "colab": {
          "base_uri": "https://localhost:8080/"
        },
        "outputId": "6ee02aa4-d6d0-42c6-a674-95344c3c91aa"
      },
      "source": [
        "Labeled_x, Test_x, Labeled_y, Test_y = train_test_split(X, Y, test_size=0.9,\r\n",
        "random_state=37, shuffle=True)\r\n",
        "\r\n",
        "def getRatio(data_y):\r\n",
        "  injected = 0\r\n",
        "  clean = 0\r\n",
        "  for l in data_y:\r\n",
        "    if l == 1:\r\n",
        "      injected+=1\r\n",
        "    elif l == 0:\r\n",
        "      clean+=1\r\n",
        "  return [clean,injected]\r\n",
        "\r\n",
        "labeled_ratio = getRatio(Labeled_y)\r\n",
        "unlabeled_ratio = getRatio(Test_y)\r\n",
        "print(\"Clean/Injected ratio in Labeled Dataset: \",\r\n",
        "      labeled_ratio[0],\"/\",labeled_ratio[1])\r\n",
        "print(\"Clean/Injected ratio in Unabeled Dataset: \",\r\n",
        "      unlabeled_ratio[0],\"/\",unlabeled_ratio[1])\r\n"
      ],
      "execution_count": null,
      "outputs": [
        {
          "output_type": "stream",
          "text": [
            "Clean/Injected ratio in Labeled Dataset:  4783 / 3718\n",
            "Clean/Injected ratio in Unabeled Dataset:  42520 / 33998\n"
          ],
          "name": "stdout"
        }
      ]
    },
    {
      "cell_type": "code",
      "metadata": {
        "id": "Z3SLYmD7xfqb",
        "colab": {
          "base_uri": "https://localhost:8080/"
        },
        "outputId": "81385794-139f-49ac-f500-6afd52355bfe"
      },
      "source": [
        "X_test.shape"
      ],
      "execution_count": null,
      "outputs": [
        {
          "output_type": "execute_result",
          "data": {
            "text/plain": [
              "(17004, 8)"
            ]
          },
          "metadata": {
            "tags": []
          },
          "execution_count": 16
        }
      ]
    },
    {
      "cell_type": "code",
      "metadata": {
        "id": "nmqtjczsiRvm",
        "colab": {
          "base_uri": "https://localhost:8080/"
        },
        "outputId": "f769f82b-0170-4520-c4a9-2fe750e27a07"
      },
      "source": [
        "models = [LinearSVC(),NuSVC(),SVC(kernel='rbf'),SGDClassifier(),NearestCentroid(), \r\n",
        "          RandomForestClassifier(n_estimators=40),KNeighborsClassifier(n_neighbors=3)]\r\n",
        "train_time_supervised = []\r\n",
        "train_time_semi = []\r\n",
        "Unlabeled_x = X_test.iloc[:]\r\n",
        "\r\n",
        "for model in models:\r\n",
        "  model.seed = 42\r\n",
        "  model_name = type(model).__name__\r\n",
        "  start_time = time.time()\r\n",
        "  # Fit the model on the labeled dataset \r\n",
        "  model.fit(X_train,y_train)\r\n",
        "  train_time_supervised.append(round((time.time()-start_time),2))\r\n",
        "  # Predict the \r\n",
        "  Y_test = model.predict(Unlabeled_x)\r\n",
        "  \r\n",
        "  Unlabeled_x['Type'] = Y_test\r\n",
        "  \r\n",
        "  # Create Pseudo Labels by selecting first 10000 predicted samples\r\n",
        "  pseudo_X = Unlabeled_x.iloc[:10000,:-1]\r\n",
        "  pseudo_Y = Unlabeled_x.iloc[:10000,-1]\r\n",
        "  \r\n",
        "  # Merge the labeled and pseudo labeled datasets\r\n",
        "  X = [Labeled_x,pseudo_X]\r\n",
        "  Y = [Labeled_y,pseudo_Y]\r\n",
        "  x_merged = pd.concat(X)\r\n",
        "  y_merged = pd.concat(Y)\r\n",
        "\r\n",
        "  # Printing the size of merged dataset for each model to ensure we have the\r\n",
        "  # right number of records i.e 10000 + size of labeled set\r\n",
        "  # print(\"Merged X: \",x_merged.shape,\" Merged Y: \",y_merged.shape)\r\n",
        "\r\n",
        "  # Evaluate the model using cross-fold validation\r\n",
        "  scores = cross_val_score(model,x_merged,y_merged,cv=5,\r\n",
        "                           scoring='neg_root_mean_squared_error')\r\n",
        "  rmse = \" %0.2f (+/- %0.2f)\" % (np.sqrt(scores.mean()*-1),\r\n",
        "                                              scores.std() * 2)\r\n",
        "  print('{model} CV-5 RMSE: {score}'.format(model=model.__class__.__name__, \r\n",
        "                                            score=rmse))\r\n",
        "  \r\n",
        "  # Applying the semi-supervised model on the dataset\r\n",
        "  start_time = time.time()\r\n",
        "  model.fit(x_merged,y_merged)\r\n",
        "  train_time_semi.append(round((time.time()-start_time),2))\r\n",
        "  pred = model.predict(Test_x)\r\n",
        "  semi_scores = precision_recall_fscore_support(Test_y, pred, average='micro')\r\n",
        "  print('{model}, Precision {precision}, Recall {recall} \\n'.format(model=model.__class__.__name__, \r\n",
        "                                            precision=semi_scores[0],recall=semi_scores[0]))\r\n",
        "\r\n",
        "  # Reset the X_test (unlabeled data) for the next model\r\n",
        "  Unlabeled_x = X_test.iloc[:]"
      ],
      "execution_count": null,
      "outputs": [
        {
          "output_type": "stream",
          "text": [
            "LinearSVC CV-5 RMSE:  0.75 (+/- 0.21)\n",
            "LinearSVC, Precision 0.44431375624036173, Recall 0.44431375624036173 \n",
            "\n",
            "NuSVC CV-5 RMSE:  0.78 (+/- 0.46)\n",
            "NuSVC, Precision 0.5329726338900651, Recall 0.5329726338900651 \n",
            "\n",
            "SVC CV-5 RMSE:  0.67 (+/- 0.00)\n",
            "SVC, Precision 0.5556862437596383, Recall 0.5556862437596383 \n",
            "\n",
            "SGDClassifier CV-5 RMSE:  0.72 (+/- 0.06)\n",
            "SGDClassifier, Precision 0.44431375624036173, Recall 0.44431375624036173 \n",
            "\n",
            "NearestCentroid CV-5 RMSE:  0.62 (+/- 0.51)\n",
            "NearestCentroid, Precision 0.5329726338900651, Recall 0.5329726338900651 \n",
            "\n",
            "RandomForestClassifier CV-5 RMSE:  0.20 (+/- 0.01)\n",
            "RandomForestClassifier, Precision 0.9981442275020257, Recall 0.9981442275020257 \n",
            "\n",
            "KNeighborsClassifier CV-5 RMSE:  0.36 (+/- 0.02)\n",
            "KNeighborsClassifier, Precision 0.9818735460937296, Recall 0.9818735460937296 \n",
            "\n"
          ],
          "name": "stdout"
        }
      ]
    },
    {
      "cell_type": "markdown",
      "metadata": {
        "id": "Nq3nFNzuGUNU"
      },
      "source": [
        "As seen in the above results, lower the RMSE better the model performance. Random Forest and KNN classifiers work. We will thus fit the model on the smaller merged dataset containing labeled and pseudo labeled records. This will allow us to save time required for training the model without affecting the accuracy, precision and recall.\r\n",
        "\r\n",
        "Also note that our test dataset here is the remaining 90% of the data in contrast to the previous 20% test data."
      ]
    },
    {
      "cell_type": "markdown",
      "metadata": {
        "id": "n5rBTQSjDd1k"
      },
      "source": [
        "# Plotting Graphs"
      ]
    },
    {
      "cell_type": "code",
      "metadata": {
        "id": "iU_QSTG7Dc9t",
        "colab": {
          "base_uri": "https://localhost:8080/",
          "height": 265
        },
        "outputId": "cb3cb8fd-1f4a-4dd9-be57-427e26276e0f"
      },
      "source": [
        "df_clean = data[data.Injected == 0]                            \r\n",
        "df_injected = data[data.Injected == 1]\r\n",
        "\r\n",
        "leg = ['Distribution Clean', 'Distribution Injected']\r\n",
        "s = pd.Series(df_clean[\"ModuleCount\"])\r\n",
        "t = pd.Series(df_injected[\"ModuleCount\"])\r\n",
        "ax = s.plot.kde()\r\n",
        "ax = t.plot.kde()\r\n",
        "plt.legend(leg)\r\n",
        "plt.savefig(\"./module_distribution.png\", bbox_inches='tight')\r\n"
      ],
      "execution_count": null,
      "outputs": [
        {
          "output_type": "display_data",
          "data": {
            "image/png": "[encoded data removed]",
            "text/plain": [
              "<Figure size 432x288 with 1 Axes>"
            ]
          },
          "metadata": {
            "tags": [],
            "needs_background": "light"
          }
        }
      ]
    },
    {
      "cell_type": "code",
      "metadata": {
        "colab": {
          "base_uri": "https://localhost:8080/",
          "height": 295
        },
        "id": "IZzxCjb5liG3",
        "outputId": "1d2b1773-ea15-4c9a-fed9-d0fd558c74f2"
      },
      "source": [
        "# LinearSVC CV-5 RMSE:  0.75 (+/- 0.21)\r\n",
        "# LinearSVC, Precision 0.44431375624036173, Recall 0.44431375624036173 \r\n",
        "\r\n",
        "# NuSVC CV-5 RMSE:  0.78 (+/- 0.46)\r\n",
        "# NuSVC, Precision 0.5329726338900651, Recall 0.5329726338900651 \r\n",
        "\r\n",
        "# SVC CV-5 RMSE:  0.67 (+/- 0.00)\r\n",
        "# SVC, Precision 0.5556862437596383, Recall 0.5556862437596383 \r\n",
        "\r\n",
        "# SGDClassifier CV-5 RMSE:  0.72 (+/- 0.06)\r\n",
        "# SGDClassifier, Precision 0.44431375624036173, Recall 0.44431375624036173 \r\n",
        "\r\n",
        "# NearestCentroid CV-5 RMSE:  0.62 (+/- 0.51)\r\n",
        "# NearestCentroid, Precision 0.5329726338900651, Recall 0.5329726338900651 \r\n",
        "\r\n",
        "# RandomForestClassifier CV-5 RMSE:  0.20 (+/- 0.01)\r\n",
        "# RandomForestClassifier, Precision 0.9981442275020257, Recall 0.9981442275020257 \r\n",
        "\r\n",
        "# KNeighborsClassifier CV-5 RMSE:  0.36 (+/- 0.02)\r\n",
        "# KNeighborsClassifier, Precision 0.9818735460937296, Recall 0.9818735460937296\r\n",
        "\r\n",
        "precision = [44.4,53.3,55.6,44.4,53.3,99.8,98.1]\r\n",
        "\r\n",
        "labels = ['LinearSVC','NuSVC','SVC','SGDClassifier',\r\n",
        "          'NearestCentroid','RandomForestClassifier','KNeighborsClassifier']\r\n",
        "\r\n",
        "y_pos = np.arange(len(labels))\r\n",
        "\r\n",
        "plt.barh(y_pos, precision, align='center', alpha=0.5)\r\n",
        "plt.yticks(y_pos, labels)\r\n",
        "plt.xlabel('Precision in Percentage')\r\n",
        "plt.title('Performance for semi-supervised models')\r\n",
        "plt.show()"
      ],
      "execution_count": null,
      "outputs": [
        {
          "output_type": "display_data",
          "data": {
            "image/png": "[encoded data removed]",
            "text/plain": [
              "<Figure size 432x288 with 1 Axes>"
            ]
          },
          "metadata": {
            "tags": [],
            "needs_background": "light"
          }
        }
      ]
    }
  ]
}